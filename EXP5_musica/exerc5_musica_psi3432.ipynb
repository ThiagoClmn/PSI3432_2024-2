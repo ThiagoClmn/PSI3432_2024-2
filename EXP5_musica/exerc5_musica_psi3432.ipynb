{
 "cells": [
  {
   "cell_type": "markdown",
   "id": "03ff509a",
   "metadata": {},
   "source": [
    "# Exercício 5 - 07-11-2024\n",
    "\n",
    "## Estimação de Partitura\n",
    "\n",
    "O sinal fornecido no arquivo sinal.mat é um pequeno trecho de música, gerado artificialmente. O objetivo deste trabalho é estimar a sequência de notas, com base nas seguintes informações:\n",
    "\n",
    "1. O período de amostragem está na variável $T_a$ no arquivo;\n",
    "1. A música foi tocada a um andamento de 80 notas por minuto\n",
    "1. Em música, uma diferença de uma oitava corresponde a dobrar a frequência. No caso da gravação fornecida, o lá central (la3) corresponde a 442Hz. O próximo lá mais grave (la2) corresponde, portanto, a 221Hz, e o próximo mais agudo (la4), a 884Hz. Como há doze semitons em uma oitava (do-do#-re-re#-mi-fá-fá#-sol-sol#-lá-lá#-si-dó), subir um semitom equivale a multiplicar a frequência da nota por $\\sqrt[12]{2} = 1.05946$\n",
    "1. A menor diferença de frequências entre duas notas na música vai portanto corresponder à diferença entre a nota mais grave e o semitom acima. A nota mais grave no nosso caso é o sol2, que é um tom abaixo do la2, e portanto, correspondente à frequência de $f_0 = 221 / \\sqrt[6]{2} = 196.8886$ Hz.\n",
    "\n",
    "A próxima frequência (correspondente ao sol2#) é então $f_1 = f_0 \\sqrt[12]{2} = 208.5962$Hz, e\n",
    "a diferença é $\\Delta f_{min} = f_1 - f_0 = 11.7076$ Hz.\n",
    "\n",
    "Escolha o tipo de janela, e os valores de M, R e N para tentar identificar as notas da\n",
    "melodia"
   ]
  },
  {
   "cell_type": "code",
   "execution_count": null,
   "id": "9f6798c5",
   "metadata": {},
   "outputs": [],
   "source": [
    "#### Pacotes e libs\n",
    "\n",
    "import Pkg;\n",
    "\n",
    "Pkg.add(\"Plots\")\n",
    "using Plots\n",
    "\n",
    "Pkg.add(\"MAT\")\n",
    "using MAT\n",
    "\n",
    "Pkg.add(\"DSP\")\n",
    "using DSP\n",
    "\n",
    "Pkg.add(\"LaTeXStrings\")\n",
    "using LaTeXStrings\n",
    "\n",
    "Pkg.add(\"FFTW\")\n",
    "using FFTW\n",
    "\n",
    "Pkg.add(\"FindPeaks1D\")\n",
    "using FindPeaks1D\n",
    "\n",
    "Pkg.add(\"WAV\")\n",
    "using WAV"
   ]
  },
  {
   "cell_type": "code",
   "execution_count": 49,
   "id": "de382e1d",
   "metadata": {},
   "outputs": [
    {
     "data": {
      "text/plain": [
       "(6.25e-5, 16000.0)"
      ]
     },
     "execution_count": 49,
     "metadata": {},
     "output_type": "execute_result"
    }
   ],
   "source": [
    "#=Extração do sinal=#\n",
    "musica_sinal = matread(\"./sinal.mat\")\n",
    "musica = musica_sinal[\"x\"]\n",
    "Ta = musica_sinal[\"Ta\"]\n",
    "fa = 1/Ta\n",
    "Ta, fa"
   ]
  },
  {
   "cell_type": "code",
   "execution_count": 51,
   "id": "bdf56db8",
   "metadata": {},
   "outputs": [],
   "source": [
    "# Gráfico do sinal\n",
    "plot(musica[20000:1:22000])\n",
    "\n",
    "#==Tocar a música=#\n",
    "wavplay(musica, fa) #= Tocar o áudio do sinal=#"
   ]
  },
  {
   "cell_type": "code",
   "execution_count": 48,
   "id": "3dc43339",
   "metadata": {},
   "outputs": [
    {
     "data": {
      "text/plain": [
       "(196.88861670901497, 208.59622310265425, 11.707606393639281)"
      ]
     },
     "execution_count": 48,
     "metadata": {},
     "output_type": "execute_result"
    }
   ],
   "source": [
    "# Parâmetros dados\n",
    "bpm = 80 # bpm\n",
    "\n",
    "f_la2 = 221 #Hz\n",
    "razao_semitom = 2^(1/12)\n",
    "f0 = f_la2 / (razao_semitom^2) ## freq mais grave ==> sol2 (um tom abaixo de la2)\n",
    "f1 = f0 * 2^(1/12) ## um semitom acima\n",
    "deltaf_min = f1 - f0\n",
    "\n",
    "periodoBatida = 60/bpm\n",
    "f0, f1, deltaf_min"
   ]
  },
  {
   "cell_type": "code",
   "execution_count": 43,
   "id": "79a6396f",
   "metadata": {},
   "outputs": [
    {
     "data": {
      "text/plain": [
       "1366.6328933549362"
      ]
     },
     "execution_count": 43,
     "metadata": {},
     "output_type": "execute_result"
    }
   ],
   "source": [
    "#==\n",
    "Parametros da STFT\n",
    "M = tamanho da janela\n",
    "R = quanto ele pula de uma tomada de janela para outra (R <= M)\n",
    "\n",
    "\n",
    "N = número de pontos do sinal\n",
    "=#\n",
    "\n",
    "\n",
    "M = fa / deltaf_min"
   ]
  }
 ],
 "metadata": {
  "kernelspec": {
   "display_name": "Julia 1.4.1",
   "language": "julia",
   "name": "julia-1.4"
  },
  "language_info": {
   "file_extension": ".jl",
   "mimetype": "application/julia",
   "name": "julia",
   "version": "1.4.1"
  }
 },
 "nbformat": 4,
 "nbformat_minor": 5
}
