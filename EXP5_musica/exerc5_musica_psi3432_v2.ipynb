{
 "cells": [
  {
   "cell_type": "markdown",
   "id": "03ff509a",
   "metadata": {},
   "source": [
    "# Exercício 5 - 07-11-2024\n",
    "\n",
    "## Estimação de Partitura\n",
    "\n",
    "O sinal fornecido no arquivo sinal.mat é um pequeno trecho de música, gerado artificialmente. O objetivo deste trabalho é estimar a sequência de notas, com base nas seguintes informações:\n",
    "\n",
    "1. O período de amostragem está na variável $T_a$ no arquivo;\n",
    "1. A música foi tocada a um andamento de 80 notas por minuto\n",
    "1. Em música, uma diferença de uma oitava corresponde a dobrar a frequência. No caso da gravação fornecida, o lá central (la3) corresponde a 442Hz. O próximo lá mais grave (la2) corresponde, portanto, a 221Hz, e o próximo mais agudo (la4), a 884Hz. Como há doze semitons em uma oitava (do-do#-re-re#-mi-fá-fá#-sol-sol#-lá-lá#-si-dó), subir um semitom equivale a multiplicar a frequência da nota por $\\sqrt[12]{2} = 1.05946$\n",
    "1. A menor diferença de frequências entre duas notas na música vai portanto corresponder à diferença entre a nota mais grave e o semitom acima. A nota mais grave no nosso caso é o sol2, que é um tom abaixo do la2, e portanto, correspondente à frequência de $f_0 = 221 / \\sqrt[6]{2} = 196.8886$ Hz.\n",
    "\n",
    "A próxima frequência (correspondente ao sol2#) é então $f_1 = f_0 \\sqrt[12]{2} = 208.5962$Hz, e\n",
    "a diferença é $\\Delta f_{min} = f_1 - f_0 = 11.7076$ Hz.\n",
    "\n",
    "Escolha o tipo de janela, e os valores de M, R e N para tentar identificar as notas da\n",
    "melodia"
   ]
  },
  {
   "cell_type": "markdown",
   "metadata": {},
   "source": [
    "# Instalação de dependências"
   ]
  },
  {
   "cell_type": "code",
   "execution_count": 1,
   "id": "9f6798c5",
   "metadata": {},
   "outputs": [
    {
     "name": "stderr",
     "output_type": "stream",
     "text": [
      "\u001b[32m\u001b[1m   Updating\u001b[22m\u001b[39m registry at `~/.julia/registries/General`\n"
     ]
    },
    {
     "name": "stderr",
     "output_type": "stream",
     "text": [
      "\u001b[32m\u001b[1m   Updating\u001b[22m\u001b[39m "
     ]
    },
    {
     "name": "stdout",
     "output_type": "stream",
     "text": [
      "\u001b[?25l    "
     ]
    },
    {
     "name": "stderr",
     "output_type": "stream",
     "text": [
      "git-repo `https://github.com/JuliaRegistries/General.git`\n"
     ]
    },
    {
     "name": "stdout",
     "output_type": "stream",
     "text": [
      "\u001b[36m\u001b[1mFetching:\u001b[22m\u001b[39m [>                                        ]  0.0 %\r\u001b[2K\u001b[?25h"
     ]
    },
    {
     "name": "stderr",
     "output_type": "stream",
     "text": [
      "\u001b[32m\u001b[1m  Resolving\u001b[22m\u001b[39m package versions...\n"
     ]
    },
    {
     "name": "stderr",
     "output_type": "stream",
     "text": [
      "\u001b[32m\u001b[1m   Updating\u001b[22m\u001b[39m `~/.julia/environments/v1.4/Project.toml`\n",
      "\u001b[90m [no changes]\u001b[39m\n",
      "\u001b[32m\u001b[1m   Updating\u001b[22m\u001b[39m `~/.julia/environments/v1.4/Manifest.toml`\n",
      "\u001b[90m [no changes]\u001b[39m\n"
     ]
    },
    {
     "name": "stderr",
     "output_type": "stream",
     "text": [
      "\u001b[32m\u001b[1m  Resolving\u001b[22m\u001b[39m package versions...\n"
     ]
    },
    {
     "name": "stderr",
     "output_type": "stream",
     "text": [
      "\u001b[32m\u001b[1m   Updating\u001b[22m\u001b[39m `~/.julia/environments/v1.4/Project.toml`\n",
      "\u001b[90m [no changes]\u001b[39m\n",
      "\u001b[32m\u001b[1m   Updating\u001b[22m\u001b[39m `~/.julia/environments/v1.4/Manifest.toml`\n",
      "\u001b[90m [no changes]\u001b[39m\n"
     ]
    },
    {
     "name": "stderr",
     "output_type": "stream",
     "text": [
      "WARNING: could not import HDF5.HDF5Group into _hdf5_implementation\n",
      "WARNING: could not import HDF5.HDF5Dataset into _hdf5_implementation\n",
      "┌ Warning: Error requiring `HDF5` from `Plots`\n",
      "│   exception = (LoadError(\"/home/thiago/.julia/packages/Plots/uCh2y/src/backends/hdf5.jl\", 162, UndefVarError(:HDF5Group)), Union{Ptr{Nothing}, Base.InterpreterIP}[Ptr{Nothing} @0x00007f77ddd72843, Ptr{Nothing} @0x00007f77dddff17c, Ptr{Nothing} @0x00007f77dddff73b, Ptr{Nothing} @0x00007f77dddff389, Ptr{Nothing} @0x00007f77dddff8f0, Ptr{Nothing} @0x00007f77dde009c8, Ptr{Nothing} @0x00007f77dde01616, Base.InterpreterIP in top-level CodeInfo for Plots._hdf5_implementation at statement 4, Ptr{Nothing} @0x00007f77dde19e08, Ptr{Nothing} @0x00007f77dde1a78e, Ptr{Nothing} @0x00007f77dde1a13a, Ptr{Nothing} @0x00007f77dde1a3c8, Ptr{Nothing} @0x00007f77dddf5105, Ptr{Nothing} @0x00007f77dde1b15d, Ptr{Nothing} @0x00007f77d00e5fa1, Ptr{Nothing} @0x00007f77b7d3af3c, Ptr{Nothing} @0x00007f77dddff75b, Ptr{Nothing} @0x00007f77dddff389, Ptr{Nothing} @0x00007f77dddff8f0, Ptr{Nothing} @0x00007f77dde009c8, Ptr{Nothing} @0x00007f77dde01616, Base.InterpreterIP in top-level CodeInfo for Plots at statement 10, Ptr{Nothing} @0x00007f77dde19e08, Ptr{Nothing} @0x00007f77dde1af20, Ptr{Nothing} @0x00007f77b7d3aed1, Ptr{Nothing} @0x00007f77b7d3aefc, Ptr{Nothing} @0x00007f77b7d3a61a, Ptr{Nothing} @0x00007f77b7d3ae56, Ptr{Nothing} @0x00007f77b7d39ef0, Ptr{Nothing} @0x00007f77b7d39f0c, Ptr{Nothing} @0x00007f77b7d39ab2, Ptr{Nothing} @0x00007f77b7d39690, Ptr{Nothing} @0x00007f77b7d3970c, Ptr{Nothing} @0x00007f77dddf7df8, Ptr{Nothing} @0x00007f77dddf8565, Ptr{Nothing} @0x00007f77c9e262df, Ptr{Nothing} @0x00007f77dddf7df8, Ptr{Nothing} @0x00007f77dddf8565, Ptr{Nothing} @0x00007f77c9e5446a, Ptr{Nothing} @0x00007f77c9e54f68, Ptr{Nothing} @0x00007f77c9e64709, Ptr{Nothing} @0x00007f77c9e65e44, Ptr{Nothing} @0x00007f77b7d2e563, Ptr{Nothing} @0x00007f77dde19113, Ptr{Nothing} @0x00007f77dde1a266, Ptr{Nothing} @0x00007f77dddf5105, Ptr{Nothing} @0x00007f77cfad3338, Ptr{Nothing} @0x00007f77dddf7df8, Ptr{Nothing} @0x00007f77dddf8565, Ptr{Nothing} @0x00007f77c9dc171d, Ptr{Nothing} @0x00007f77c9dc1c92, Ptr{Nothing} @0x00007f77c9dc121b, Ptr{Nothing} @0x00007f77c9db6439, Ptr{Nothing} @0x00007f77c9dabcdd, Ptr{Nothing} @0x00007f77c9da8e5b, Ptr{Nothing} @0x00007f77dddff75b, Ptr{Nothing} @0x00007f77dddff389, Ptr{Nothing} @0x00007f77dddff8f0, Ptr{Nothing} @0x00007f77dde009c8, Ptr{Nothing} @0x00007f77dde01616, Base.InterpreterIP in top-level CodeInfo for Main at statement 25, Ptr{Nothing} @0x00007f77dde19e08, Ptr{Nothing} @0x00007f77dddf5105, Ptr{Nothing} @0x00007f77dde1b15d, Ptr{Nothing} @0x00007f77d00e5fa1, Ptr{Nothing} @0x00007f77d00f059f, Ptr{Nothing} @0x00007f77cfaa9763, Ptr{Nothing} @0x00007f77cfaa98a5, Ptr{Nothing} @0x000055b6b099f9d9, Ptr{Nothing} @0x000055b6b099f5a6, Ptr{Nothing} @0x00007f77ddb35082, Ptr{Nothing} @0x000055b6b099f64d])\n",
      "└ @ Requires /home/thiago/.julia/packages/Requires/Z8rfN/src/require.jl:51\n",
      "\u001b[32m\u001b[1m  Resolving\u001b[22m\u001b[39m"
     ]
    },
    {
     "name": "stderr",
     "output_type": "stream",
     "text": [
      " package versions...\n",
      "\u001b[32m\u001b[1m   Updating\u001b[22m\u001b[39m"
     ]
    },
    {
     "name": "stderr",
     "output_type": "stream",
     "text": [
      " `~/.julia/environments/v1.4/Project.toml`\n",
      "\u001b[90m [no changes]\u001b[39m\n",
      "\u001b[32m\u001b[1m   Updating\u001b[22m\u001b[39m `~/.julia/environments/v1.4/Manifest.toml`\n",
      "\u001b[90m [no changes]\u001b[39m\n",
      "\u001b[32m\u001b[1m  Resolving\u001b[22m\u001b[39m"
     ]
    },
    {
     "name": "stderr",
     "output_type": "stream",
     "text": [
      " package versions...\n",
      "\u001b[32m\u001b[1m   Updating\u001b[22m\u001b[39m"
     ]
    }
   ],
   "source": [
    "#================================================#\n",
    "# PSI 3432 - Processamento de Áudio e Imagem \n",
    "# Title : EP - Partitura\t\t\t\t\t\t\t\t\t\t\t\t\t\t\t\t\t\t\t\t\t\t\t\n",
    "# Authors: Lucas Gaspar Mendonça, \n",
    "# Thiago da Rocha Calomino Gonçalves\t\t\t\t\t\t\t\t\t\t\t\t\n",
    "# Description:\t\t\t\t\t\t\t\t\t\n",
    "#================================================#\n",
    "\n",
    "import Pkg\n",
    "\n",
    "Pkg.add(\"Plots\")\n",
    "using Plots\n",
    "\n",
    "Pkg.add(\"MAT\")\n",
    "using MAT\n",
    "\n",
    "Pkg.add(\"LaTeXStrings\")\n",
    "using LaTeXStrings\n",
    "\n",
    "Pkg.add(\"DSP\")\n",
    "using DSP\n",
    "\n",
    "Pkg.add(\"FFTW\")\n",
    "using FFTW\n",
    "\n",
    "Pkg.add(\"FindPeaks1D\")\n",
    "using FindPeaks1D\n",
    "\n",
    "Pkg.add(\"WAV\")\n",
    "using WAV"
   ]
  },
  {
   "cell_type": "markdown",
   "metadata": {},
   "source": [
    "# Extração do sinal"
   ]
  },
  {
   "cell_type": "code",
   "execution_count": 2,
   "id": "de382e1d",
   "metadata": {},
   "outputs": [
    {
     "data": {
      "text/plain": [
       "0:120022"
      ]
     },
     "metadata": {},
     "output_type": "display_data"
    }
   ],
   "source": [
    "#=Extração do sinal=#\n",
    "\n",
    "#================================================#\n",
    "# Parte 1\n",
    "#================================================#\n",
    "\n",
    "# sinal recebido\n",
    "# cd(\"C:/Users/lucas/Documents/USP/Disciplinas/8_semestre/PES2/EC5\")\n",
    "cd(\"/home/thiago/Documents/2024-2/PSI3432/exerc5_musica\")\n",
    "\n",
    "arquivo = matread(\"sinal.mat\")\n",
    "sinal = arquivo[\"x\"]\n",
    "Ta = arquivo[\"Ta\"]\n",
    "fa = 1/Ta\n",
    "n = 0:(length(sinal[:, 1])-1)\n",
    "\n",
    "# Gráfico do sinal\n",
    "# plot(sinal[20000:1:22000])"
   ]
  },
  {
   "cell_type": "code",
   "execution_count": null,
   "metadata": {},
   "outputs": [],
   "source": [
    "#= Tocar o áudio do sinal=#\n",
    "# wavplay(sinal, fa)"
   ]
  },
  {
   "cell_type": "markdown",
   "metadata": {},
   "source": [
    "# Parâmetros de janela"
   ]
  },
  {
   "cell_type": "code",
   "execution_count": 3,
   "metadata": {},
   "outputs": [
    {
     "name": "stdout",
     "output_type": "stream",
     "text": [
      "1916"
     ]
    }
   ],
   "source": [
    "##== Parametros de janela ==##\n",
    "f_min = 196.8886 # sol2\n",
    "Δf_min = f_min*(2.0^(1/12) - 1) \n",
    "\n",
    "# N\n",
    "N_min = Int(round(fa/Δf_min))\n",
    "N = nextpow(2, N_min)\n",
    "\n",
    "# M\n",
    "M_max = (60/320)*fa\n",
    "\n",
    "# Tomando-se a Janela de Kaiser de M pontos:\n",
    "# p/ atenuação em lóbulo lateral de 90 dB\n",
    "Δω = f_min/fa\n",
    "M_min = Int(round((24π*(120+12))/(155*2π*Δω)+1))\n",
    "M = Int(round((M_min+M_max)/2))\n",
    "Asl = (60+120)/2\n",
    "\n",
    "# Tomando uma janela de Hamming\n",
    "#sinal_capado = sinal[24:120023]\n",
    "if Asl < 13.26\n",
    "    β = 0\n",
    "elseif Asl < 60\n",
    "    β = 0.76609(Asl-13.26)^(0.4)+0.09834(Asl-13.26)\n",
    "elseif Asl < 120\n",
    "    β = 0.12438(Asl+6.3)\n",
    "end\n",
    "\n",
    "wk = kaiser(M, β/π)\n",
    "\n",
    "m_window_signal = []\n",
    "\n",
    "start_idx = 118793\n",
    "end_idx = length(sinal)\n",
    "window_length = 1916\n",
    "\n",
    "\n",
    "if (end_idx - start_idx) + 1 < window_length\n",
    "    # print(\"oh\")\n",
    "    m_window_signal = vcat(sinal[start_idx:length(sinal)], zeros(window_length -( (end_idx - start_idx) + 1)))\n",
    "    print(length(m_window_signal))\n",
    "else\n",
    "    # print(\"ok\")\n",
    "    m_window_signal = sinal[start_idx:end_idx]\n",
    "end"
   ]
  },
  {
   "cell_type": "markdown",
   "metadata": {},
   "source": [
    "# Cálculo da STFT"
   ]
  },
  {
   "cell_type": "code",
   "execution_count": 4,
   "metadata": {},
   "outputs": [
    {
     "data": {
      "text/plain": [
       "stft (generic function with 1 method)"
      ]
     },
     "metadata": {},
     "output_type": "display_data"
    }
   ],
   "source": [
    "# Função para calcular a STFT\n",
    "function stft(signal, window, nfft)\n",
    "    # Tamanho do sinal e janela\n",
    "    signal_length = length(signal)\n",
    "    window_length = length(window)\n",
    "    \n",
    "    # Número de janelas\n",
    "    num_windows = 1 + div(signal_length, window_length)\n",
    "    \n",
    "    # Matriz para armazenar o resultado da STFT\n",
    "    stft_matrix = Matrix{ComplexF64}(undef, nfft, num_windows)\n",
    "    \n",
    "    # Iterar sobre o sinal com deslocamentos de hop_size\n",
    "    for i in 1:num_windows\n",
    "        # Índices do segmento\n",
    "        start_idx = (i - 1) * window_length + 1\n",
    "        end_idx = start_idx + window_length - 1\n",
    "        \n",
    "        if end_idx > signal_length\n",
    "            # print(\"oh\")\n",
    "            m_window_signal = vcat(sinal[start_idx:length(sinal)], zeros(end_idx - signal_length))\n",
    "            print(length(m_window_signal))\n",
    "        else\n",
    "            # print(\"ok\")\n",
    "            m_window_signal = sinal[start_idx:end_idx]\n",
    "        end\n",
    "        # Extraindo o segmento do sinal\n",
    "        segment = (m_window_signal .* window)\n",
    "        padded_segment = vcat(segment, zeros(nfft - window_length))\n",
    "\n",
    "        # Calculando a TDF do segmento\n",
    "\n",
    "        spectrum = fft(padded_segment)\n",
    "        \n",
    "        if (i == 0)\n",
    "            print(spectrum)\n",
    "        end\n",
    "        # Adicionando à matriz STFT\n",
    "        stft_matrix[:, i] = spectrum\n",
    "    end\n",
    "    \n",
    "    return hcat(stft_matrix...)  # Organizar resultados em colunas\n",
    "end"
   ]
  },
  {
   "cell_type": "code",
   "execution_count": null,
   "metadata": {},
   "outputs": [],
   "source": [
    "nfft = 2048 # Tamanho da FFT para cada segmento\n",
    "omega0 = 2π/nfft\n",
    "windowaxis = map((k) -> k * omega0, 1:nfft+1)\n",
    "\n",
    "# Calculando a STFT\n",
    "stft_result = stft(sinal, wk, nfft)[0]\n",
    "abs_stft_result = abs.(stft_result)\n",
    "plot(windowaxis, abs_stft_result)\n",
    "\n",
    "\n",
    "# Visualizando o espectrograma\n",
    "# heatmap(windowaxis, abs_stft_result, xlabel=\"Time Frames\", ylabel=\"Frequency Bins\", title=\"STFT Magnitude Spectrum\")"
   ]
  },
  {
   "cell_type": "markdown",
   "metadata": {},
   "source": [
    "# Identificação de notas"
   ]
  },
  {
   "cell_type": "code",
   "execution_count": null,
   "metadata": {},
   "outputs": [],
   "source": []
  }
 ],
 "metadata": {
  "kernelspec": {
   "display_name": "Julia 1.4.1",
   "language": "julia",
   "name": "julia-1.4"
  },
  "language_info": {
   "file_extension": ".jl",
   "mimetype": "application/julia",
   "name": "julia",
   "version": "1.4.1"
  }
 },
 "nbformat": 4,
 "nbformat_minor": 5
}
