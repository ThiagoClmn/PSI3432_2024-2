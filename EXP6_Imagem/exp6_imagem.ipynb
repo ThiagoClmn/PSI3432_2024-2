{
 "cells": [
  {
   "cell_type": "markdown",
   "id": "4b588a38",
   "metadata": {},
   "source": [
    "# Exp 6 - Filtro 2D (PSI3432)\n",
    "\n",
    "Nomes: Pedro Yuuki, Lucas Gaspar, Thiago Calomino"
   ]
  },
  {
   "cell_type": "code",
   "execution_count": 3,
   "id": "4a25120b",
   "metadata": {},
   "outputs": [
    {
     "name": "stderr",
     "output_type": "stream",
     "text": [
      "\u001b[32m\u001b[1m   Updating\u001b[22m\u001b[39m registry at `~/.julia/registries/General`\n"
     ]
    },
    {
     "name": "stdout",
     "output_type": "stream",
     "text": [
      "\u001b[?25l    "
     ]
    },
    {
     "name": "stderr",
     "output_type": "stream",
     "text": [
      "\u001b[32m\u001b[1m   Updating\u001b[22m\u001b[39m git-repo `https://github.com/JuliaRegistries/General.git`\n"
     ]
    },
    {
     "name": "stdout",
     "output_type": "stream",
     "text": [
      "\u001b[2K\u001b[?25h"
     ]
    },
    {
     "name": "stderr",
     "output_type": "stream",
     "text": [
      "\u001b[32m\u001b[1m  Resolving\u001b[22m\u001b[39m package versions...\n",
      "\u001b[32m\u001b[1m   Updating\u001b[22m\u001b[39m `~/.julia/environments/v1.4/Project.toml`\n",
      "\u001b[90m [no changes]\u001b[39m\n",
      "\u001b[32m\u001b[1m   Updating\u001b[22m\u001b[39m `~/.julia/environments/v1.4/Manifest.toml`\n",
      "\u001b[90m [no changes]\u001b[39m\n",
      "\u001b[32m\u001b[1m  Resolving\u001b[22m\u001b[39m package versions...\n",
      "\u001b[32m\u001b[1m   Updating\u001b[22m\u001b[39m `~/.julia/environments/v1.4/Project.toml`\n",
      "\u001b[90m [no changes]\u001b[39m\n",
      "\u001b[32m\u001b[1m   Updating\u001b[22m\u001b[39m `~/.julia/environments/v1.4/Manifest.toml`\n",
      "\u001b[90m [no changes]\u001b[39m\n",
      "\u001b[36m\u001b[1m[ \u001b[22m\u001b[39m\u001b[36m\u001b[1mInfo: \u001b[22m\u001b[39mPrecompiling MAT [23992714-dd62-5051-b70f-ba57cb901cac]\n",
      "ERROR: LoadError: HDF5 is not properly installed. Please run Pkg.build(\"HDF5\") and restart Julia.\n",
      "Stacktrace:\n",
      " [1] error(::String, ::String) at ./error.jl:42\n",
      " [2] top-level scope at /home/thiago/.julia/packages/HDF5/YX0jU/src/HDF5.jl:31\n",
      " [3] include(::Module, ::String) at ./Base.jl:377\n",
      " [4] top-level scope at none:2\n",
      " [5] eval at ./boot.jl:331 [inlined]\n",
      " [6] eval(::Expr) at ./client.jl:449\n",
      " [7] top-level scope at ./none:3\n",
      "in expression starting at /home/thiago/.julia/packages/HDF5/YX0jU/src/HDF5.jl:28\n",
      "ERROR: LoadError: Failed to precompile HDF5 [f67ccb44-e63f-5c2f-98bd-6dc0ccc4ba2f] to /home/thiago/.julia/compiled/v1.4/HDF5/L7Dga_uuW5g.ji.\n",
      "Stacktrace:\n",
      " [1] error(::String) at ./error.jl:33\n",
      " [2] compilecache(::Base.PkgId, ::String) at ./loading.jl:1272\n",
      " [3] _require(::Base.PkgId) at ./loading.jl:1029\n",
      " [4] require(::Base.PkgId) at ./loading.jl:927\n",
      " [5] require(::Module, ::Symbol) at ./loading.jl:922\n",
      " [6] include(::Module, ::String) at ./Base.jl:377\n",
      " [7] top-level scope at none:2\n",
      " [8] eval at ./boot.jl:331 [inlined]\n",
      " [9] eval(::Expr) at ./client.jl:449\n",
      " [10] top-level scope at ./none:3\n",
      "in expression starting at /home/thiago/.julia/packages/MAT/5SDtD/src/MAT.jl:27\n"
     ]
    },
    {
     "ename": "ErrorException",
     "evalue": "\u001b[91mFailed to precompile MAT [23992714-dd62-5051-b70f-ba57cb901cac] to /home/thiago/.julia/compiled/v1.4/MAT/3FHIv_uuW5g.ji.\u001b[39m",
     "output_type": "error",
     "traceback": [
      "\u001b[91mFailed to precompile MAT [23992714-dd62-5051-b70f-ba57cb901cac] to /home/thiago/.julia/compiled/v1.4/MAT/3FHIv_uuW5g.ji.\u001b[39m",
      "",
      "Stacktrace:",
      " [1] error(::String) at ./error.jl:33",
      " [2] compilecache(::Base.PkgId, ::String) at ./loading.jl:1272",
      " [3] _require(::Base.PkgId) at ./loading.jl:1029",
      " [4] require(::Base.PkgId) at ./loading.jl:927",
      " [5] require(::Module, ::Symbol) at ./loading.jl:922",
      " [6] top-level scope at In[3]:7"
     ]
    }
   ],
   "source": [
    "import Pkg;\n",
    "\n",
    "Pkg.add(\"DSP\");\n",
    "using DSP;\n",
    "\n",
    "Pkg.add(\"MAT\");\n",
    "using MAT;\n",
    "\n",
    "Pkg.add(\"Images\");\n",
    "using Images;\n",
    "\n",
    "Pkg.add(\"ImageIO\");\n",
    "using ImageIO;\n",
    "\n",
    "Pkg.add(\"FileIO\");\n",
    "using FileIO;\n",
    "\n",
    "Pkg.add(\"ImageView\");\n",
    "using ImageView;\n",
    "\n",
    "Pkg.add(\"FFTViews\");\n",
    "using FFTViews;\n",
    "\n",
    "Pkg.add(\"Plots\");\n",
    "using Plots;\n",
    "\n",
    "Pkg.add(\"FFTW\");\n",
    "using FFTW;\n"
   ]
  },
  {
   "cell_type": "code",
   "execution_count": null,
   "metadata": {},
   "outputs": [],
   "source": [
    "i_aux = load(\"C:\\\\Users\\\\Yuuki\\\\Poli\\\\Processamento de Áudio e Imagem\\\\Atividade\\\\Exp 21.11.2024\\\\cassini-interference.tif\")\n",
    "img = convert(Array{Float32}, i_aux)\n",
    "# imshow(img) NÃO SEI PORQUE NÃO TÁ FUNCIONANDO"
   ]
  },
  {
   "cell_type": "code",
   "execution_count": null,
   "metadata": {},
   "outputs": [],
   "source": [
    "function ImageShifter(Image)\n",
    "    n1, n2 = size(Image)\n",
    "    s_img = similar(Image)\n",
    "    for i in 1:n1\n",
    "        for j in 1:n2\n",
    "            s_img[i, j] = ((-1)^(i + j)) * Image[i, j]\n",
    "        end\n",
    "    end\n",
    "    return s_img\n",
    "end\n",
    "\n",
    "function ZeroPadding(Image, L)\n",
    "    n1, n2 = size(Image)\n",
    "    zero_pad = zeros(Float32, n1 + 2*L, n2 + 2*L)\n",
    "    zero_pad[(L+1):(n1+L), (L+1):(n2+L)] .= Image\n",
    "    return zero_pad\n",
    "end"
   ]
  },
  {
   "cell_type": "code",
   "execution_count": null,
   "metadata": {},
   "outputs": [],
   "source": [
    "M_1, M_2 = size(img)\n",
    "N_1 = 2*M_1\n",
    "N_2 = 2*M_2\n",
    "\n",
    "# Zero padding\n",
    "padded_img = ZeroPadding(img, 2)\n",
    "\n",
    "# Multiplicar a imagem por (-1)^(n1+n2)\n",
    "shifted_img = ImageShifter(padded_img)\n",
    "\n",
    "# FFT da imagem deslocada\n",
    "fft_img = fft(shifted_img)"
   ]
  }
 ],
 "metadata": {
  "kernelspec": {
   "display_name": "Julia 1.4.1",
   "language": "julia",
   "name": "julia-1.4"
  },
  "language_info": {
   "file_extension": ".jl",
   "mimetype": "application/julia",
   "name": "julia",
   "version": "1.4.1"
  }
 },
 "nbformat": 4,
 "nbformat_minor": 5
}
